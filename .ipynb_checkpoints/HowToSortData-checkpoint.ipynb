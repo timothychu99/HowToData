{
 "cells": [
  {
   "cell_type": "markdown",
   "id": "d39fe578",
   "metadata": {},
   "source": [
    "# How to Sort Data:\n",
    "Topics Covered:\n",
    "* How to **read** a dataset.\n",
    "* How to **filter/sort** a dataset.\n",
    "* How to make **visualizations**.\n",
    "\n",
    "## Project Question: \n",
    "\n",
    "Did the **Total Dissolved Solids** (TDS) in the River **Change** Over Time?\n",
    "\n",
    "*Total Dissolved Solids*\n",
    ": a measure of the dissolved combined content of all inorganic and organic substances present in a liquid in molecular, ionized, or micro-granular suspended form.\n",
    "\n",
    "| TDS Level (mg/L) | TDS Rating for Safe Drinking |\n",
    "| :------| :-----------|\n",
    "| Less than 300   | Excellent |\n",
    "| 300 - 600 | Good |\n",
    "| 600 - 900 | Fair |\n",
    "| 900 - 1200 | Poor |\n",
    "| 1200 | Unacceptable |"
   ]
  },
  {
   "cell_type": "markdown",
   "id": "cbbee640",
   "metadata": {},
   "source": [
    "## How to Read a Dataset\n",
    "* Many datasets are shown in the following format:\n",
    "[SampleDataset.csv](./SampleDataset.csv)\n",
    "* How is it **organized**?\n",
    "    * The **first line** in the dataset displays the list of **parameters** the dataset measures:\n",
    "\n",
    "  ` \"Regulating Agency\",\"Water System Number\",\"Water System Name\",\"System Status\",\"Water System Classification\",\"Principal County Served\",\"Population Served\",\"Service Connections\",\"PS Code\",\"Sampling Point Name\",\"Facility Type\",\"Facility Status\",\"Sample Date\",\"Sample Time\",\"Analysis Date\",\"ELAP Cert#\",\"Lab Name\",\"Analyte Code\",\"Analyte Name\",\"Result\",\"Counting Error\",\"Units of Measure\",\"Less Than Reporting Level\",\"Reporting Level\",\"DLR\",\"MCL\",\"Method\" `\n",
    " \n",
    "    * The **second line and below** display the results of a data **sample entry**.\n",
    "\n",
    "    * Excel will sort data in the following fashion:"
   ]
  },
  {
   "cell_type": "markdown",
   "id": "d177fdb1",
   "metadata": {},
   "source": [
    "| Regulating Agency            | Water System Number | Water System Name              | System Status | Water System Classification | Principal County Served | Population Served | Service Connections | PS Code             | Sampling Point Name | Facility Type | Facility Status | Sample Date | Sample Time | Analysis Date | ELAP Cert# | Lab Name                              | Analyte Code | Analyte Name                  | Result | Counting Error | Units of Measure | Less Than Reporting Level | Reporting Level | DLR | MCL | Method    |\n",
    "| ---------------------------- | ------------------- | ------------------------------ | ------------- | --------------------------- | ----------------------- | ----------------- | ------------------- | ------------------- | ------------------- | ------------- | --------------- | ----------- | ----------- | ------------- | ---------- | ------------------------------------- | ------------ | ----------------------------- | ------ | -------------- | ---------------- | ------------------------- | --------------- | --- | --- | --------- |\n",
    "| DISTRICT 17 - SANTA CLARA    | CA4300615           | THOUSAND TRAILS - MORGAN HILL  | A             | C                           | SANTA CLARA             | 508               | 320                 | CA4300615\\_001\\_001 | WELL 01             | WL            | A               | 12/31/2021  | 06:56:00    | 1/1/2022      | 2385       | MONTEREY BAY ANALYTICAL SERVICES      | 1041         | NITRITE                       |        |                | MG/L             | Y                         | 0.1             |     |     | EPA 300.0 |\n",
    "| DISTRICT 17 - SANTA CLARA    | CA4300615           | THOUSAND TRAILS - MORGAN HILL  | A             | C                           | SANTA CLARA             | 508               | 320                 | CA4300615\\_001\\_001 | WELL 01             | WL            | A               | 12/31/2021  | 06:56:00    | 1/1/2022      | 2385       | MONTEREY BAY ANALYTICAL SERVICES      | 1040         | NITRATE                       | 0.4    |                | MG/L             | N                         | 0.1             |     |     | EPA 300.0 |\n",
    "| DISTRICT 19 - TEHACHAPI      | CA1500424           | LANDS OF PROMISE MWC           | A             | C                           | KERN                    | 174               | 63                  | CA1500424\\_005\\_005 | WELL 05             | WL            | A               | 12/31/2021  | 16:25:00    | 12/31/2021    | 2791       | ZALCO LABORATORIES, INC.              | 1040         | NITRATE                       | 0.36   |                | MG/L             | N                         | 0.1             |     |     | EPA 300.0 |\n",
    "| DISTRICT 19 - TEHACHAPI      | CA1500424           | LANDS OF PROMISE MWC           | A             | C                           | KERN                    | 174               | 63                  | CA1500424\\_006\\_006 | WELL 06             | WL            | A               | 12/31/2021  | 16:30:00    | 12/31/2021    | 2791       | ZALCO LABORATORIES, INC.              | 1040         | NITRATE                       | 0.34   |                | MG/L             | N                         | 0.1             |     |     | EPA 300.0 |\n",
    "| DISTRICT 05 - MONTEREY       | CA2790002           | MONTEREY ONE WATER             | A             | NP                          | MONTEREY                | 0                 |                     | CA2790002\\_300\\_300 | AWPF EFFLUENT       | TP            | A               | 12/31/2021  | 07:14:00    | 1/5/2022      | 2385       | MONTEREY BAY ANALYTICAL SERVICES      | 1038         | NITRATE-NITRITE               |        |                | MG/L             | Y                         | 0.4             |     |     | EPA 300.0 |\n",
    "| DISTRICT 13 - SAN BERNARDINO | CA3610002           | ALPINE WATER USERS ASSOCIATION | A             | C                           | SAN BERNARDINO          | 2534              | 931                 | CA3610002\\_016\\_016 | WELL 1 IX FINISHED  | TP            | A               | 12/31/2021  | 07:34:00    | 1/7/2022      | 1088       | CLINICAL LABORATORY OF SAN BERNARDINO | 4109         | GROSS ALPHA PARTICLE ACTIVITY |        | 0.63           | PCI/L            | Y                         | 3               |     |     | SM 7110 C |\n",
    "| DISTRICT 13 - SAN BERNARDINO | CA3610002           | ALPINE WATER USERS ASSOCIATION | A             | C                           | SAN BERNARDINO          | 2534              | 931                 | CA3610002\\_016\\_016 | WELL 1 IX FINISHED  | TP            | A               | 12/31/2021  | 07:34:00    | 1/4/2022      | 1088       | CLINICAL LABORATORY OF SAN BERNARDINO | 4006         | COMBINED URANIUM              | 3.3    | 0              | PCI/L            | N                         | 1               |     |     | EPA 200.8 |\n",
    "| DISTRICT 19 - TEHACHAPI      | CA1500424           | LANDS OF PROMISE MWC           | A             | C                           | KERN                    | 174               | 63                  | CA1500424\\_005\\_005 | WELL 05             | WL            | A               | 12/31/2021  | 04:25:00    | 1/5/2022      | 1132       | WECK LABORATORIES                     | 1930         | TDS                           | 210    |                | MG/L             | N                         | 10              |     |     | SM 2540 C |\n",
    "| DISTRICT 19 - TEHACHAPI      | CA1500424           | LANDS OF PROMISE MWC           | A             | C                           | KERN                    | 174               | 63                  | CA1500424\\_005\\_005 | WELL 05             | WL            | A               | 12/31/2021  | 04:25:00    | 1/7/2022      | 1132       | WECK LABORATORIES                     | 1927         | ALKALINITY, TOTAL             | 91     |                | MG/L             | N                         | 5               |     |     | SM 2320 B |\n"
   ]
  },
  {
   "attachments": {},
   "cell_type": "markdown",
   "id": "f1aa8d48",
   "metadata": {},
   "source": [
    "## How to Filter/Sort a Dataset\n",
    "* Datasets are usually filled with **irrelevant** data samples.\n",
    "* We must **filter out** the irrelevent data samples.\n",
    "\n",
    "**For our project:**\n",
    "\n",
    "\n",
    "* Data that we will be using: [WaterData](./WaterData.csv)\n",
    "* We want to filter out the data to show only TDS sample data.\n",
    "\n",
    "Step 1: We want to locate which parameter we should use to filter the data.\n",
    "* The sample classifies what the sample is measuring in the 'parameter' parameter.\n",
    "    * We will detect which samples measures TDS from this parameter\n",
    "![ExcelParameterSelecting.png](ExcelParameterSelecting.png)\n",
    "\n",
    "Step 2: Highlight this parameter and find all instances of Total Dissolved Solids (TDS)\n",
    "* Left-click mouse and click on Add or Remove Filters\n",
    "![FilterSearch.png](FilterSearch.png)\n",
    "\n",
    "* Click on Text Filters -> Equals\n",
    "![EqualsFilter.png](EqualsFilter.png)\n",
    "\n",
    "* A new tab will pop up, and enter *Total Dissolved Solids* in the textbox next to the equals, then press the ok button.\n",
    "![FilterEquals.png](FilterEquals.png)\n",
    "\n",
    "* The dataset will now be filtered to show only the TDS samples\n",
    "![FilterResults.png](FilterResults.png)"
   ]
  },
  {
   "cell_type": "markdown",
   "id": "9d0dbbc5",
   "metadata": {},
   "source": [
    "## How to Make Visualizations\n"
   ]
  },
  {
   "cell_type": "code",
   "execution_count": null,
   "id": "71ec3ecf",
   "metadata": {},
   "outputs": [],
   "source": []
  }
 ],
 "metadata": {
  "kernelspec": {
   "display_name": "Python 3 (ipykernel)",
   "language": "python",
   "name": "python3"
  },
  "language_info": {
   "codemirror_mode": {
    "name": "ipython",
    "version": 3
   },
   "file_extension": ".py",
   "mimetype": "text/x-python",
   "name": "python",
   "nbconvert_exporter": "python",
   "pygments_lexer": "ipython3",
   "version": "3.8.10"
  }
 },
 "nbformat": 4,
 "nbformat_minor": 5
}
