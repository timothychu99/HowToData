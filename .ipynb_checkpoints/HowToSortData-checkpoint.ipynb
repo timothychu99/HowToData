{
 "cells": [
  {
   "cell_type": "markdown",
   "id": "d39fe578",
   "metadata": {},
   "source": [
    "# How to Sort Data:\n",
    "Topics Covered:\n",
    "* How to **read** a dataset.\n",
    "* How to **filter/sort** a dataset.\n",
    "* How to make **visualizations**.\n",
    "\n",
    "## Project Question: \n",
    "\n",
    "Did the **Total Dissolved Solids** (TDS) in the River **Change** Over Time?\n",
    "\n",
    "| TDS Level (mg/L) | TDS Rating |\n",
    "| :------| :-----------|\n",
    "| Less than 300   | Excellent |\n",
    "| 300 - 600 | Good |\n",
    "| 600 - 900 | Fair |\n",
    "| 900 - 1200 | Poor |\n",
    "| 1200 | Unacceptable |"
   ]
  },
  {
   "cell_type": "markdown",
   "id": "cbbee640",
   "metadata": {},
   "source": [
    "## How to Read a Dataset\n",
    "* Many datasets are shown in the following format:\n",
    "[SampleDataset.csv](./SampleDataset.csv)\n",
    "* How is it **organized**?\n",
    "    * The **first line** in the dataset displays the list of **parameters** the dataset measures:\n",
    "\n",
    "  ` \"Regulating Agency\",\"Water System Number\",\"Water System Name\",\"System Status\",\"Water System Classification\",\"Principal County Served\",\"Population Served\",\"Service Connections\",\"PS Code\",\"Sampling Point Name\",\"Facility Type\",\"Facility Status\",\"Sample Date\",\"Sample Time\",\"Analysis Date\",\"ELAP Cert#\",\"Lab Name\",\"Analyte Code\",\"Analyte Name\",\"Result\",\"Counting Error\",\"Units of Measure\",\"Less Than Reporting Level\",\"Reporting Level\",\"DLR\",\"MCL\",\"Method\" `\n",
    " \n",
    "    * The **second line and below** display the results of a data **sample entry**\n",
    "\n",
    "    * Excel will sort data in the following fashion:"
   ]
  },
  {
   "cell_type": "markdown",
   "id": "d177fdb1",
   "metadata": {},
   "source": [
    "| Regulating Agency            | Water System Number | Water System Name              | System Status | Water System Classification | Principal County Served | Population Served | Service Connections | PS Code             | Sampling Point Name | Facility Type | Facility Status | Sample Date | Sample Time | Analysis Date | ELAP Cert# | Lab Name                              | Analyte Code | Analyte Name                  | Result | Counting Error | Units of Measure | Less Than Reporting Level | Reporting Level | DLR | MCL | Method    |\n",
    "| ---------------------------- | ------------------- | ------------------------------ | ------------- | --------------------------- | ----------------------- | ----------------- | ------------------- | ------------------- | ------------------- | ------------- | --------------- | ----------- | ----------- | ------------- | ---------- | ------------------------------------- | ------------ | ----------------------------- | ------ | -------------- | ---------------- | ------------------------- | --------------- | --- | --- | --------- |\n",
    "| DISTRICT 17 - SANTA CLARA    | CA4300615           | THOUSAND TRAILS - MORGAN HILL  | A             | C                           | SANTA CLARA             | 508               | 320                 | CA4300615\\_001\\_001 | WELL 01             | WL            | A               | 12/31/2021  | 06:56:00    | 1/1/2022      | 2385       | MONTEREY BAY ANALYTICAL SERVICES      | 1041         | NITRITE                       |        |                | MG/L             | Y                         | 0.1             |     |     | EPA 300.0 |\n",
    "| DISTRICT 17 - SANTA CLARA    | CA4300615           | THOUSAND TRAILS - MORGAN HILL  | A             | C                           | SANTA CLARA             | 508               | 320                 | CA4300615\\_001\\_001 | WELL 01             | WL            | A               | 12/31/2021  | 06:56:00    | 1/1/2022      | 2385       | MONTEREY BAY ANALYTICAL SERVICES      | 1040         | NITRATE                       | 0.4    |                | MG/L             | N                         | 0.1             |     |     | EPA 300.0 |\n",
    "| DISTRICT 19 - TEHACHAPI      | CA1500424           | LANDS OF PROMISE MWC           | A             | C                           | KERN                    | 174               | 63                  | CA1500424\\_005\\_005 | WELL 05             | WL            | A               | 12/31/2021  | 16:25:00    | 12/31/2021    | 2791       | ZALCO LABORATORIES, INC.              | 1040         | NITRATE                       | 0.36   |                | MG/L             | N                         | 0.1             |     |     | EPA 300.0 |\n",
    "| DISTRICT 19 - TEHACHAPI      | CA1500424           | LANDS OF PROMISE MWC           | A             | C                           | KERN                    | 174               | 63                  | CA1500424\\_006\\_006 | WELL 06             | WL            | A               | 12/31/2021  | 16:30:00    | 12/31/2021    | 2791       | ZALCO LABORATORIES, INC.              | 1040         | NITRATE                       | 0.34   |                | MG/L             | N                         | 0.1             |     |     | EPA 300.0 |\n",
    "| DISTRICT 05 - MONTEREY       | CA2790002           | MONTEREY ONE WATER             | A             | NP                          | MONTEREY                | 0                 |                     | CA2790002\\_300\\_300 | AWPF EFFLUENT       | TP            | A               | 12/31/2021  | 07:14:00    | 1/5/2022      | 2385       | MONTEREY BAY ANALYTICAL SERVICES      | 1038         | NITRATE-NITRITE               |        |                | MG/L             | Y                         | 0.4             |     |     | EPA 300.0 |\n",
    "| DISTRICT 13 - SAN BERNARDINO | CA3610002           | ALPINE WATER USERS ASSOCIATION | A             | C                           | SAN BERNARDINO          | 2534              | 931                 | CA3610002\\_016\\_016 | WELL 1 IX FINISHED  | TP            | A               | 12/31/2021  | 07:34:00    | 1/7/2022      | 1088       | CLINICAL LABORATORY OF SAN BERNARDINO | 4109         | GROSS ALPHA PARTICLE ACTIVITY |        | 0.63           | PCI/L            | Y                         | 3               |     |     | SM 7110 C |\n",
    "| DISTRICT 13 - SAN BERNARDINO | CA3610002           | ALPINE WATER USERS ASSOCIATION | A             | C                           | SAN BERNARDINO          | 2534              | 931                 | CA3610002\\_016\\_016 | WELL 1 IX FINISHED  | TP            | A               | 12/31/2021  | 07:34:00    | 1/4/2022      | 1088       | CLINICAL LABORATORY OF SAN BERNARDINO | 4006         | COMBINED URANIUM              | 3.3    | 0              | PCI/L            | N                         | 1               |     |     | EPA 200.8 |\n",
    "| DISTRICT 19 - TEHACHAPI      | CA1500424           | LANDS OF PROMISE MWC           | A             | C                           | KERN                    | 174               | 63                  | CA1500424\\_005\\_005 | WELL 05             | WL            | A               | 12/31/2021  | 04:25:00    | 1/5/2022      | 1132       | WECK LABORATORIES                     | 1930         | TDS                           | 210    |                | MG/L             | N                         | 10              |     |     | SM 2540 C |\n",
    "| DISTRICT 19 - TEHACHAPI      | CA1500424           | LANDS OF PROMISE MWC           | A             | C                           | KERN                    | 174               | 63                  | CA1500424\\_005\\_005 | WELL 05             | WL            | A               | 12/31/2021  | 04:25:00    | 1/7/2022      | 1132       | WECK LABORATORIES                     | 1927         | ALKALINITY, TOTAL             | 91     |                | MG/L             | N                         | 5               |     |     | SM 2320 B |\n"
   ]
  },
  {
   "cell_type": "markdown",
   "id": "f1aa8d48",
   "metadata": {},
   "source": [
    "## How to Filter/Sort a Dataset\n",
    "* Datasets are usually filled with **irrelevant** data samples\n",
    "* We must **filter out** the irrelevent data samples\n",
    "\n",
    "* Data that we will be using: [USGSSanLuisReyData](./USGSSanLuisReyData)"
   ]
  },
  {
   "cell_type": "code",
   "execution_count": null,
   "id": "23bce370",
   "metadata": {},
   "outputs": [],
   "source": [
    "sss"
   ]
  }
 ],
 "metadata": {
  "kernelspec": {
   "display_name": "Python 3 (ipykernel)",
   "language": "python",
   "name": "python3"
  },
  "language_info": {
   "codemirror_mode": {
    "name": "ipython",
    "version": 3
   },
   "file_extension": ".py",
   "mimetype": "text/x-python",
   "name": "python",
   "nbconvert_exporter": "python",
   "pygments_lexer": "ipython3",
   "version": "3.8.10"
  }
 },
 "nbformat": 4,
 "nbformat_minor": 5
}
